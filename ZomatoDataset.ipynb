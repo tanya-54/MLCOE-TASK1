{
 "cells": [
  {
   "cell_type": "code",
   "execution_count": null,
   "id": "95f4fa64-c574-4929-b36c-1a38ba82416e",
   "metadata": {},
   "outputs": [],
   "source": [
    "import pandas as pd \n",
    "import numpy as np \n",
    "import seaborn as sns \n",
    "import matplotlib.pyplot as plt"
   ]
  },
  {
   "cell_type": "code",
   "execution_count": null,
   "id": "bbf53ebc-15ca-4e16-9403-a72255bc72e5",
   "metadata": {},
   "outputs": [],
   "source": [
    "df = pd.read_csv(\"C:\\\\Users\\\\Dell\\\\Downloads\\\\zomato.csv\")"
   ]
  },
  {
   "cell_type": "code",
   "execution_count": null,
   "id": "9c03574a-162c-4b7b-8bf3-4c557099c73a",
   "metadata": {
    "scrolled": true
   },
   "outputs": [],
   "source": [
    "df.head()"
   ]
  },
  {
   "cell_type": "code",
   "execution_count": null,
   "id": "33a3b3f6-de8d-4a58-a252-528df4949060",
   "metadata": {},
   "outputs": [],
   "source": [
    "df.shape"
   ]
  },
  {
   "cell_type": "code",
   "execution_count": null,
   "id": "b9b44a97-2ac2-4401-a0ed-114f85472210",
   "metadata": {},
   "outputs": [],
   "source": [
    "df.columns"
   ]
  },
  {
   "cell_type": "code",
   "execution_count": null,
   "id": "21fb0641-1797-4bf6-b4fb-f6ff6e38e164",
   "metadata": {},
   "outputs": [],
   "source": [
    "df = df.drop(['url','address','phone','menu_item','dish_liked','reviews_list'],axis=1)"
   ]
  },
  {
   "cell_type": "code",
   "execution_count": null,
   "id": "cca21796-dd9e-4805-9939-7c7461484e22",
   "metadata": {
    "scrolled": true
   },
   "outputs": [],
   "source": [
    "df.head()"
   ]
  },
  {
   "cell_type": "code",
   "execution_count": null,
   "id": "a1223c37-240d-487f-8c44-1ea00b183e59",
   "metadata": {},
   "outputs": [],
   "source": [
    "df.info()"
   ]
  },
  {
   "cell_type": "code",
   "execution_count": null,
   "id": "71aaffb0-c0a9-4537-be2f-29e70230bf27",
   "metadata": {},
   "outputs": [],
   "source": [
    "df.drop_duplicates(inplace=True)\n",
    "df.shape"
   ]
  },
  {
   "cell_type": "code",
   "execution_count": null,
   "id": "a1eb3bd1-03cf-4b47-a95d-6c15dc9ef9e2",
   "metadata": {},
   "outputs": [],
   "source": [
    "df['rate'].unique"
   ]
  },
  {
   "cell_type": "code",
   "execution_count": null,
   "id": "5dc93eed-e8f1-45ce-85ad-5655e20bb757",
   "metadata": {},
   "outputs": [],
   "source": [
    "def removeNull(value):\n",
    "    if (value == 'NEW'or value== '-'):\n",
    "        return np.nan\n",
    "    else :\n",
    "        value = str(value).split('/')\n",
    "        value = value[0]\n",
    "        return float(value) \n",
    "df['rate'] = df['rate'].apply(removeNull)"
   ]
  },
  {
   "cell_type": "code",
   "execution_count": null,
   "id": "7dcc8f65-f71d-4cdc-92dc-19272087321f",
   "metadata": {},
   "outputs": [],
   "source": [
    "df['rate'].head()"
   ]
  },
  {
   "cell_type": "code",
   "execution_count": null,
   "id": "5ce4b060-d826-4f0d-af6d-85d02218d41b",
   "metadata": {},
   "outputs": [],
   "source": [
    "df.rate.isnull().sum()"
   ]
  },
  {
   "cell_type": "code",
   "execution_count": null,
   "id": "ff97591a-3fa2-440f-a154-d5ef08494a0f",
   "metadata": {},
   "outputs": [],
   "source": [
    "df['rate'] = df['rate'].fillna(df['rate'].mean())"
   ]
  },
  {
   "cell_type": "code",
   "execution_count": null,
   "id": "f9d4572d-f07c-4c5e-8649-cb1f95b1d28e",
   "metadata": {},
   "outputs": [],
   "source": [
    "df['rate']"
   ]
  },
  {
   "cell_type": "code",
   "execution_count": null,
   "id": "1cfac44f-e4c3-40c7-a59f-3024fe4f6b7f",
   "metadata": {},
   "outputs": [],
   "source": [
    "df.rate.isnull().sum()"
   ]
  },
  {
   "cell_type": "code",
   "execution_count": null,
   "id": "2ce7a4fd-b49f-43ec-aef2-0a05dd8a2edb",
   "metadata": {},
   "outputs": [],
   "source": [
    "df.dropna(inplace=True)"
   ]
  },
  {
   "cell_type": "code",
   "execution_count": null,
   "id": "7133ce15-223f-492a-9111-26b0bd75b1a5",
   "metadata": {},
   "outputs": [],
   "source": [
    "df.head()"
   ]
  },
  {
   "cell_type": "code",
   "execution_count": null,
   "id": "c4c09d87-11de-4b77-acd6-8fe7759fd4a1",
   "metadata": {},
   "outputs": [],
   "source": [
    "df= df.drop(['listed_in(city)'],axis = 1)"
   ]
  },
  {
   "cell_type": "code",
   "execution_count": null,
   "id": "7eb5d44a-70d4-4bbe-be8d-0c2a236ebf49",
   "metadata": {},
   "outputs": [],
   "source": [
    "df.head()"
   ]
  },
  {
   "cell_type": "code",
   "execution_count": null,
   "id": "97b5b446-46fe-491a-a2b1-40f21439550e",
   "metadata": {},
   "outputs": [],
   "source": [
    "df['location'].unique()"
   ]
  },
  {
   "cell_type": "code",
   "execution_count": null,
   "id": "2490911b-79da-41b8-a9e3-e207b88ff3fa",
   "metadata": {},
   "outputs": [],
   "source": [
    "df['approx_cost(for two people)'].unique()"
   ]
  },
  {
   "cell_type": "code",
   "execution_count": null,
   "id": "64aa9fd2-1baf-4cf7-8fe2-446cf2493aff",
   "metadata": {},
   "outputs": [],
   "source": [
    "def removeComma(value):\n",
    "    value = str(value)\n",
    "    if ',' in value:\n",
    "        value = value.replace(',','')\n",
    "        return value\n",
    "    else:\n",
    "        return value\n",
    "df['approx_cost(for two people)'] = df['approx_cost(for two people)'].apply(removeComma)\n"
   ]
  },
  {
   "cell_type": "code",
   "execution_count": null,
   "id": "e016d396-59f5-4c6b-aa3e-5d2fac1f53be",
   "metadata": {},
   "outputs": [],
   "source": [
    "df['approx_cost(for two people)'].unique()"
   ]
  },
  {
   "cell_type": "code",
   "execution_count": null,
   "id": "b889f7f8-7530-46db-8fcc-3809836287d5",
   "metadata": {},
   "outputs": [],
   "source": [
    "df.head()"
   ]
  },
  {
   "cell_type": "code",
   "execution_count": null,
   "id": "93f8b582-7905-451b-b80d-e03aed426652",
   "metadata": {},
   "outputs": [],
   "source": [
    "df['rest_type'].value_counts()"
   ]
  },
  {
   "cell_type": "code",
   "execution_count": null,
   "id": "0acae669-2c5a-495e-beb7-9289db933842",
   "metadata": {},
   "outputs": [],
   "source": [
    "rest_types = df['rest_type'].value_counts(ascending = False)\n",
    "rest_types"
   ]
  },
  {
   "cell_type": "code",
   "execution_count": null,
   "id": "79d3f642-f23f-4d23-9712-afdc9c2e9bf7",
   "metadata": {},
   "outputs": [],
   "source": [
    "rest_typeslessthan1000= rest_types[rest_types<1000]\n"
   ]
  },
  {
   "cell_type": "code",
   "execution_count": null,
   "id": "adb339cb-ff72-4904-8545-af2918996279",
   "metadata": {},
   "outputs": [],
   "source": [
    "rest_typeslessthan1000"
   ]
  },
  {
   "cell_type": "code",
   "execution_count": null,
   "id": "862d5c5e-ecde-4ee0-8df7-82950001f818",
   "metadata": {},
   "outputs": [],
   "source": [
    "def cluster1(value):\n",
    "    if(value in rest_typeslessthan1000):\n",
    "        return 'others'\n",
    "    else :\n",
    "        return value\n",
    "df['rest_type'] = df['rest_type'].apply(cluster1)\n",
    "df['rest_type'].value_counts()"
   ]
  },
  {
   "cell_type": "code",
   "execution_count": null,
   "id": "be19d7fe-fe42-4206-9caa-acd812037e12",
   "metadata": {},
   "outputs": [],
   "source": [
    "df['rest_type'].unique()"
   ]
  },
  {
   "cell_type": "code",
   "execution_count": null,
   "id": "e6c64b41-d269-47eb-ab94-5fd0f9cb2298",
   "metadata": {},
   "outputs": [],
   "source": [
    "df['location']"
   ]
  },
  {
   "cell_type": "code",
   "execution_count": null,
   "id": "d5361658-0484-4dd2-809e-a7dad8beb077",
   "metadata": {},
   "outputs": [],
   "source": [
    "location = df['location'].value_counts(ascending = False )"
   ]
  },
  {
   "cell_type": "code",
   "execution_count": null,
   "id": "cd055cb9-6492-418d-8433-c846546e61fb",
   "metadata": {},
   "outputs": [],
   "source": [
    "location_lessthan300 = location[location <300]"
   ]
  },
  {
   "cell_type": "code",
   "execution_count": null,
   "id": "d8ce05fc-c8ea-41ce-8fc1-f1b478b86ee7",
   "metadata": {},
   "outputs": [],
   "source": [
    "def cluster3(value):\n",
    "    if (value in location_lessthan300):\n",
    "        return 'others'\n",
    "    else :\n",
    "        return value\n",
    "df['location'] = df['location'].apply(cluster3)\n",
    "df['location'].value_counts()"
   ]
  },
  {
   "cell_type": "code",
   "execution_count": null,
   "id": "2999c4a4-70dd-44c9-9e61-1919c48fb447",
   "metadata": {},
   "outputs": [],
   "source": [
    "df.head()"
   ]
  },
  {
   "cell_type": "code",
   "execution_count": null,
   "id": "4ed86161-cdfa-47b8-95fb-7f83352d8088",
   "metadata": {},
   "outputs": [],
   "source": [
    "df['cuisines'].value_counts()"
   ]
  },
  {
   "cell_type": "code",
   "execution_count": null,
   "id": "845e9ebd-82c7-4c7b-93ab-ce1a2f8cab26",
   "metadata": {},
   "outputs": [],
   "source": [
    "cuisines = df['cuisines'].value_counts(ascending = False)"
   ]
  },
  {
   "cell_type": "code",
   "execution_count": null,
   "id": "36525f8a-58d0-4122-b4cb-366eec400f05",
   "metadata": {},
   "outputs": [],
   "source": [
    "cuisines_lessthan100 = cuisines[cuisines<100]\n",
    "def cluster4(value):\n",
    "    if (value in cuisines_lessthan100):\n",
    "        return 'others'\n",
    "    else :\n",
    "        return value\n",
    "df['cuisines'] = df['cuisines'].apply(cluster4)"
   ]
  },
  {
   "cell_type": "code",
   "execution_count": null,
   "id": "a353ad7b-b3a3-4c13-8d59-e7c24899416d",
   "metadata": {},
   "outputs": [],
   "source": [
    "df['cuisines'].value_counts()"
   ]
  },
  {
   "cell_type": "code",
   "execution_count": null,
   "id": "43877fe1-bd73-4092-af9a-06e1cdfbea3e",
   "metadata": {},
   "outputs": [],
   "source": [
    "df['listed_in(type)'].value_counts()"
   ]
  },
  {
   "cell_type": "markdown",
   "id": "cee3d1ee-5fb7-4643-ae71-112ffed1e5b4",
   "metadata": {},
   "source": [
    "# Visualization"
   ]
  },
  {
   "cell_type": "code",
   "execution_count": null,
   "id": "b7a97372-7bc3-4008-b6e6-3ec95569f226",
   "metadata": {},
   "outputs": [],
   "source": [
    "#checking highest no of restaurents "
   ]
  },
  {
   "cell_type": "code",
   "execution_count": null,
   "id": "9ed34825-e4f4-436b-9ee1-f476edf2464c",
   "metadata": {},
   "outputs": [],
   "source": [
    "plt.figure(figsize = (16,10))\n",
    "ax = sns.countplot(df['location'])\n",
    "plt.xticks(rotation = 90)"
   ]
  },
  {
   "cell_type": "code",
   "execution_count": null,
   "id": "54923d40-048b-41f6-a28a-8486056c47b2",
   "metadata": {},
   "outputs": [],
   "source": [
    "#restaurents having online order facility "
   ]
  },
  {
   "cell_type": "code",
   "execution_count": null,
   "id": "1c588d4e-0abf-44f5-bd86-86403bf88277",
   "metadata": {},
   "outputs": [],
   "source": [
    "plt.figure(figsize =  (6,6))\n",
    "sns.countplot(df['online_order'] , palette = 'inferno')"
   ]
  },
  {
   "cell_type": "code",
   "execution_count": null,
   "id": "7976b5ae-a635-4d42-b920-5bfb4c269f66",
   "metadata": {},
   "outputs": [],
   "source": []
  }
 ],
 "metadata": {
  "kernelspec": {
   "display_name": "Python 3 (ipykernel)",
   "language": "python",
   "name": "python3"
  },
  "language_info": {
   "codemirror_mode": {
    "name": "ipython",
    "version": 3
   },
   "file_extension": ".py",
   "mimetype": "text/x-python",
   "name": "python",
   "nbconvert_exporter": "python",
   "pygments_lexer": "ipython3",
   "version": "3.12.0"
  }
 },
 "nbformat": 4,
 "nbformat_minor": 5
}
